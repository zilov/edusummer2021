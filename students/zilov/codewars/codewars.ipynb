{
 "cells": [
  {
   "cell_type": "code",
   "execution_count": 5,
   "id": "catholic-thailand",
   "metadata": {},
   "outputs": [
    {
     "name": "stdout",
     "output_type": "stream",
     "text": [
      "25\n"
     ]
    }
   ],
   "source": [
    "# opposite number\n",
    "\n",
    "def opposite(number):\n",
    "    return number - 2 * number\n",
    "\n",
    "print(opposite(-25))"
   ]
  },
  {
   "cell_type": "code",
   "execution_count": 19,
   "id": "separated-surname",
   "metadata": {},
   "outputs": [],
   "source": [
    "# Duplicate Encoder\n",
    "\n",
    "def duplicate_encode(word):\n",
    "    new_string = \"\"\n",
    "    word = list(word.lower())\n",
    "    for letter in word:\n",
    "        if word.count(letter) != 1:\n",
    "            new_string+= \"(\"\n",
    "        else:\n",
    "            new_string += \")\"\n",
    "    print(new_string)"
   ]
  },
  {
   "cell_type": "code",
   "execution_count": 43,
   "id": "established-least",
   "metadata": {},
   "outputs": [],
   "source": [
    "# min and max\n",
    "\n",
    "def max_and_min(numbers):\n",
    "    numbers = [int(x) for x in numbers.split()]\n",
    "    numbers = \" \".join([str(max(numbers)), str(min(numbers))])\n",
    "    return numbers"
   ]
  },
  {
   "cell_type": "code",
   "execution_count": 16,
   "id": "double-representation",
   "metadata": {},
   "outputs": [],
   "source": [
    "# Disvowel trolls \n",
    "string = \"This website is for losers LOL!\"\n",
    "\n",
    "def disemvowel(string_):\n",
    "    string = \"\".join(symbol for symbol in list(string_) if symbol not in \"aouieAIOUE\") \n",
    "    return string\n",
    "disemvowel(string)"
   ]
  },
  {
   "cell_type": "code",
   "execution_count": 38,
   "id": "portable-bahrain",
   "metadata": {},
   "outputs": [
    {
     "name": "stdout",
     "output_type": "stream",
     "text": [
      "lg\n"
     ]
    }
   ],
   "source": [
    "# get the middle character\n",
    "\n",
    "def get_middle(s):\n",
    "    string_length = len(s)\n",
    "    if len(s) % 2 != 0:\n",
    "        return s[string_length // 2]\n",
    "    else:\n",
    "        return s[string_length//2-1:string_length//2+1]\n",
    "    \n",
    "def get_middle_new(s):\n",
    "    middle = len(s) // 2\n",
    "    return s[middle-1:middle+1] if len(s) % 2 == 0 else s[middle]\n",
    "\n",
    "string = \".dslgg;k\"\n",
    "print(get_middle_new(string))"
   ]
  },
  {
   "cell_type": "code",
   "execution_count": 39,
   "id": "formal-india",
   "metadata": {},
   "outputs": [],
   "source": [
    "# all stars challenge \n",
    "\n",
    "def sum_ppg(playerOne, playerTwo):\n",
    "    return sum(player[\"ppg\"] for player in [playerOne, playerTwo])"
   ]
  },
  {
   "cell_type": "code",
   "execution_count": null,
   "id": "prospective-celebration",
   "metadata": {},
   "outputs": [],
   "source": []
  }
 ],
 "metadata": {
  "kernelspec": {
   "display_name": "Python 3",
   "language": "python",
   "name": "python3"
  },
  "language_info": {
   "codemirror_mode": {
    "name": "ipython",
    "version": 3
   },
   "file_extension": ".py",
   "mimetype": "text/x-python",
   "name": "python",
   "nbconvert_exporter": "python",
   "pygments_lexer": "ipython3",
   "version": "3.7.9"
  }
 },
 "nbformat": 4,
 "nbformat_minor": 5
}
